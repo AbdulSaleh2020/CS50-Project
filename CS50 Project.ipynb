{
 "cells": [
  {
   "cell_type": "markdown",
   "metadata": {},
   "source": [
    "# Titanic: Machine Learning From Disaster\n",
    "### by Sung Anh and Abdul Saleh"
   ]
  },
  {
   "cell_type": "markdown",
   "metadata": {},
   "source": [
    "<hr>\n",
    "## Introduction\n",
    "In this project we use random forest and xgboost machine learning algorithms to predict who survived the sinking of the RMS Titanic. In as much as this is a learning experience, our purpose in this project is not just to accurately predict who survived and who didn't, but we also focus a lot on using Also, it is worth noting that the Titanic dataset kindly provided by Kaggle and used in this project is one of the most commonly analyzed datasets in all of machine learning. So in our own analysis we rely on the insightful remarks and conclusions introduced by the wonderful data science community. We are basically standing on the shoulders of giants drawing on their experiences and learning from their mistakes."
   ]
  },
  {
   "cell_type": "markdown",
   "metadata": {},
   "source": [
    "<hr>\n",
    "## Outline\n",
    "1. Understanding the Problem\n",
    "    - Machine learning, and CS in general, is about problem solving so we begin by understanding the problem\n",
    "2. Exploratory Data Analysis\n",
    "    - We take a good look at the data, mess around with it, and decide which approach to take"
   ]
  },
  {
   "cell_type": "code",
   "execution_count": 1,
   "metadata": {},
   "outputs": [
    {
     "name": "stdout",
     "output_type": "stream",
     "text": [
      "hello,world\n"
     ]
    }
   ],
   "source": [
    "print(\"hello,world\")"
   ]
  },
  {
   "cell_type": "markdown",
   "metadata": {},
   "source": [
    "This is another test"
   ]
  },
  {
   "cell_type": "code",
   "execution_count": null,
   "metadata": {
    "collapsed": true
   },
   "outputs": [],
   "source": []
  }
 ],
 "metadata": {
  "kernelspec": {
   "display_name": "Python 3",
   "language": "python",
   "name": "python3"
  },
  "language_info": {
   "codemirror_mode": {
    "name": "ipython",
    "version": 3
   },
   "file_extension": ".py",
   "mimetype": "text/x-python",
   "name": "python",
   "nbconvert_exporter": "python",
   "pygments_lexer": "ipython3",
   "version": "3.6.2"
  }
 },
 "nbformat": 4,
 "nbformat_minor": 2
}
